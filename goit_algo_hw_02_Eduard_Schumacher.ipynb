{
  "nbformat": 4,
  "nbformat_minor": 0,
  "metadata": {
    "colab": {
      "provenance": [],
      "authorship_tag": "ABX9TyMfi7FfcvGrHhE2NAMcxejs",
      "include_colab_link": true
    },
    "kernelspec": {
      "name": "python3",
      "display_name": "Python 3"
    },
    "language_info": {
      "name": "python"
    }
  },
  "cells": [
    {
      "cell_type": "markdown",
      "metadata": {
        "id": "view-in-github",
        "colab_type": "text"
      },
      "source": [
        "<a href=\"https://colab.research.google.com/github/mijamoto911/goitneo-python-hw-1-group_4/blob/main/goit_algo_hw_02_Eduard_Schumacher.ipynb\" target=\"_parent\"><img src=\"https://colab.research.google.com/assets/colab-badge.svg\" alt=\"Open In Colab\"/></a>"
      ]
    },
    {
      "cell_type": "markdown",
      "source": [
        "## Завдання 1"
      ],
      "metadata": {
        "id": "1FBuDrgt11Go"
      }
    },
    {
      "cell_type": "code",
      "execution_count": 16,
      "metadata": {
        "colab": {
          "base_uri": "https://localhost:8080/"
        },
        "id": "l9Ioq80GL3qP",
        "outputId": "ba614619-c288-4c3d-b30e-6e5c282d693b"
      },
      "outputs": [
        {
          "output_type": "stream",
          "name": "stdout",
          "text": [
            "New Application: Application 1\n",
            "Application processing: Application 1\n",
            "New Application: Application 2\n",
            "Application processed: Application 1\n",
            "Application processing: Application 2\n",
            "New Application: Application 3\n",
            "New Application: Application 4\n",
            "Application processed: Application 2\n",
            "Application processing: Application 3\n",
            "New Application: Application 5\n",
            "Application processed: Application 3\n"
          ]
        }
      ],
      "source": [
        "import time\n",
        "import threading\n",
        "from queue import Queue\n",
        "\n",
        "class ServiceCenter:\n",
        "    def __init__(self):\n",
        "        self.request_queue = Queue()\n",
        "        self.is_processing = False\n",
        "        self.terminate_flag = False\n",
        "\n",
        "    def generate_request(self, request_id):\n",
        "      return f\"Application {request_id}\"\n",
        "\n",
        "\n",
        "    def process_request(self, request):\n",
        "      print(f\"Application processing: {request}\")\n",
        "      time.sleep(2)\n",
        "      print(f\"Application processed: {request}\")\n",
        "\n",
        "    def handle_requests(self):\n",
        "        while not self.terminate_flag:\n",
        "            if not self.request_queue.empty():\n",
        "                request = self.request_queue.get()\n",
        "                self.is_processing = True\n",
        "                self.process_request(request)\n",
        "                self.is_processing = False\n",
        "\n",
        "    def generate_and_enqueue_requests(self, num_requests):\n",
        "        for i in range(num_requests):\n",
        "            new_request = self.generate_request(i + 1)\n",
        "            self.request_queue.put(new_request)\n",
        "            print(f\"New Application: {new_request}\")\n",
        "            time.sleep(1)\n",
        "\n",
        "    def start_simulation(self, num_requests):\n",
        "        processing_thread = threading.Thread(target=self.handle_requests)\n",
        "        processing_thread.start()\n",
        "\n",
        "        generating_thread = threading.Thread(target=self.generate_and_enqueue_requests, args=(num_requests,))\n",
        "        generating_thread.start()\n",
        "\n",
        "        generating_thread.join()\n",
        "        self.terminate_flag = True\n",
        "        processing_thread.join()\n",
        "\n",
        "if __name__ == \"__main__\":\n",
        "  service_center = ServiceCenter()\n",
        "  service_center.start_simulation(num_requests=5)\n",
        "\n",
        "\n"
      ]
    },
    {
      "cell_type": "markdown",
      "source": [
        "## Завдання 2"
      ],
      "metadata": {
        "id": "InuSBU7o14TK"
      }
    },
    {
      "cell_type": "code",
      "source": [
        "from collections import deque\n",
        "\n",
        "def is_palindrome(s):\n",
        "    s = s.lower().replace(\" \", \"\")\n",
        "\n",
        "    char_deque = deque(s)\n",
        "\n",
        "    while len(char_deque) > 1:\n",
        "        if char_deque.popleft() != char_deque.pop():\n",
        "            return False\n",
        "    return True\n"
      ],
      "metadata": {
        "id": "hBCX29KF1w5r"
      },
      "execution_count": 11,
      "outputs": []
    }
  ]
}